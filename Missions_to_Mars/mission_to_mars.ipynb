{
 "cells": [
  {
   "cell_type": "markdown",
   "source": [
    "# Web Scraping - Mission to Mars  👩🏻‍🚀"
   ],
   "metadata": {}
  },
  {
   "cell_type": "code",
   "execution_count": 36,
   "source": [
    "# Dependencies\r\n",
    "from splinter import Browser\r\n",
    "from bs4 import BeautifulSoup as bs\r\n",
    "import pandas as pd"
   ],
   "outputs": [],
   "metadata": {}
  },
  {
   "cell_type": "code",
   "execution_count": 37,
   "source": [
    "# Import Splinter and set the chromedriver path\r\n",
    "from webdriver_manager.chrome import ChromeDriverManager\r\n",
    "executable_path = {'executable_path': ChromeDriverManager().install()}\r\n",
    "browser = Browser('chrome', **executable_path, headless=False)"
   ],
   "outputs": [
    {
     "output_type": "stream",
     "name": "stderr",
     "text": [
      "\n",
      "\n",
      "====== WebDriver manager ======\n",
      "Current google-chrome version is 93.0.4577\n",
      "Get LATEST driver version for 93.0.4577\n",
      "Driver [C:\\Users\\Sharon\\.wdm\\drivers\\chromedriver\\win32\\93.0.4577.15\\chromedriver.exe] found in cache\n"
     ]
    }
   ],
   "metadata": {}
  },
  {
   "cell_type": "markdown",
   "source": [
    "## 🚀 NASA Mars News 🚀"
   ],
   "metadata": {}
  },
  {
   "cell_type": "markdown",
   "source": [
    "Scrape the Mars News Site and collect the latest News Title and Paragraph Text. "
   ],
   "metadata": {}
  },
  {
   "cell_type": "code",
   "execution_count": 38,
   "source": [
    "# Save NASA MARS URL and visit the page\r\n",
    "url = 'https://redplanetscience.com/'\r\n",
    "browser.visit(url)\r\n",
    "\r\n",
    "# Create BeautifulSoup object; parse with 'html.parser'\r\n",
    "html = browser.html\r\n",
    "soup = bs(html, \"html.parser\")\r\n",
    "\r\n",
    "# Retrieve the latest news title and article\r\n",
    "news_title = soup.find('div', class_='content_title').text\r\n",
    "news_p = soup.find('div', class_='article_teaser_body').text\r\n",
    "\r\n",
    "# Print title and paragraph\r\n",
    "print(news_title)\r\n",
    "print('------------------------------------------------------')\r\n",
    "print(news_p)"
   ],
   "outputs": [
    {
     "output_type": "stream",
     "name": "stdout",
     "text": [
      "NASA's Perseverance Mars Rover Gets Its Wheels and Air Brakes\n",
      "------------------------------------------------------\n",
      "After the rover was shipped from JPL to Kennedy Space Center, the team is getting closer to finalizing the spacecraft for launch later this summer.\n"
     ]
    }
   ],
   "metadata": {}
  },
  {
   "cell_type": "markdown",
   "source": [
    "## JPL Mars Space Images - Featured Image 🌑"
   ],
   "metadata": {}
  },
  {
   "cell_type": "markdown",
   "source": [
    "Visit the url for the Featured Space Image site and retrieve the full sive image URL. "
   ],
   "metadata": {}
  },
  {
   "cell_type": "code",
   "execution_count": 39,
   "source": [
    "# Save FEATURED SPACE IMAGE URL and visit the page\r\n",
    "url = 'https://spaceimages-mars.com/'  \r\n",
    "browser.visit(url)\r\n",
    "\r\n",
    "# Design an XPATH selector to grab the featured image\r\n",
    "xpath = '/html/body/div[1]/img'\r\n",
    "\r\n",
    "# Use splinter to Click the featured image \r\n",
    "# to bring up the full resolution image\r\n",
    "results = browser.find_by_xpath(xpath)\r\n",
    "img = results[0]\r\n",
    "img.click()\r\n",
    "\r\n",
    "# Create BeautifulSoup object; parse with 'html.parser'\r\n",
    "html = browser.html\r\n",
    "soup = bs(html, \"html.parser\")\r\n",
    "image_url = soup.find(\"img\", class_=\"headerimage fade-in\")[\"src\"]\r\n",
    "image_url\r\n",
    "\r\n",
    "# Concatenate URL with image_url\r\n",
    "featured_image_url = url + image_url\r\n",
    "featured_image_url"
   ],
   "outputs": [
    {
     "output_type": "execute_result",
     "data": {
      "text/plain": [
       "'https://spaceimages-mars.com/image/featured/mars1.jpg'"
      ]
     },
     "metadata": {},
     "execution_count": 39
    }
   ],
   "metadata": {}
  },
  {
   "cell_type": "markdown",
   "source": [
    "### Bonus: Because I like pictures.  💥"
   ],
   "metadata": {}
  },
  {
   "cell_type": "code",
   "execution_count": 40,
   "source": [
    "# Use the requests library to download and save the image from the `featured_image_url` above\r\n",
    "import requests\r\n",
    "import shutil\r\n",
    "response = requests.get(featured_image_url, stream=True)\r\n",
    "with open('img.png', 'wb') as out_file:\r\n",
    "    shutil.copyfileobj(response.raw, out_file)\r\n",
    "    \r\n",
    "# Display the image with IPython.display\r\n",
    "from IPython.display import Image\r\n",
    "Image(url='img.png')"
   ],
   "outputs": [
    {
     "output_type": "execute_result",
     "data": {
      "text/html": [
       "<img src=\"img.png\"/>"
      ],
      "text/plain": [
       "<IPython.core.display.Image object>"
      ]
     },
     "metadata": {},
     "execution_count": 40
    }
   ],
   "metadata": {}
  },
  {
   "cell_type": "markdown",
   "source": [
    "## Mars Facts 🛰"
   ],
   "metadata": {}
  },
  {
   "cell_type": "markdown",
   "source": [
    "Visit the Mars Facts webpage, use Pandas to scrape the table containing facts about the planet including Diameter, Mass, etc, and convert it back to an HTML format."
   ],
   "metadata": {}
  },
  {
   "cell_type": "code",
   "execution_count": 46,
   "source": [
    "# Save MARS FACTS URL and visit the page\r\n",
    "url = 'https://galaxyfacts-mars.com/'\r\n",
    "\r\n",
    "#Extract the Facts Table from the URL using pandas\r\n",
    "tables=pd.read_html(url)\r\n",
    "df=tables[1]\r\n",
    "df.columns = ['Description', 'Mars']\r\n",
    "df.set_index('Description', inplace=True)\r\n",
    "df"
   ],
   "outputs": [
    {
     "output_type": "execute_result",
     "data": {
      "text/html": [
       "<div>\n",
       "<style scoped>\n",
       "    .dataframe tbody tr th:only-of-type {\n",
       "        vertical-align: middle;\n",
       "    }\n",
       "\n",
       "    .dataframe tbody tr th {\n",
       "        vertical-align: top;\n",
       "    }\n",
       "\n",
       "    .dataframe thead th {\n",
       "        text-align: right;\n",
       "    }\n",
       "</style>\n",
       "<table border=\"1\" class=\"dataframe\">\n",
       "  <thead>\n",
       "    <tr style=\"text-align: right;\">\n",
       "      <th></th>\n",
       "      <th>Mars</th>\n",
       "    </tr>\n",
       "    <tr>\n",
       "      <th>Description</th>\n",
       "      <th></th>\n",
       "    </tr>\n",
       "  </thead>\n",
       "  <tbody>\n",
       "    <tr>\n",
       "      <th>Equatorial Diameter:</th>\n",
       "      <td>6,792 km</td>\n",
       "    </tr>\n",
       "    <tr>\n",
       "      <th>Polar Diameter:</th>\n",
       "      <td>6,752 km</td>\n",
       "    </tr>\n",
       "    <tr>\n",
       "      <th>Mass:</th>\n",
       "      <td>6.39 × 10^23 kg (0.11 Earths)</td>\n",
       "    </tr>\n",
       "    <tr>\n",
       "      <th>Moons:</th>\n",
       "      <td>2 ( Phobos &amp; Deimos )</td>\n",
       "    </tr>\n",
       "    <tr>\n",
       "      <th>Orbit Distance:</th>\n",
       "      <td>227,943,824 km (1.38 AU)</td>\n",
       "    </tr>\n",
       "    <tr>\n",
       "      <th>Orbit Period:</th>\n",
       "      <td>687 days (1.9 years)</td>\n",
       "    </tr>\n",
       "    <tr>\n",
       "      <th>Surface Temperature:</th>\n",
       "      <td>-87 to -5 °C</td>\n",
       "    </tr>\n",
       "    <tr>\n",
       "      <th>First Record:</th>\n",
       "      <td>2nd millennium BC</td>\n",
       "    </tr>\n",
       "    <tr>\n",
       "      <th>Recorded By:</th>\n",
       "      <td>Egyptian astronomers</td>\n",
       "    </tr>\n",
       "  </tbody>\n",
       "</table>\n",
       "</div>"
      ],
      "text/plain": [
       "                                               Mars\n",
       "Description                                        \n",
       "Equatorial Diameter:                       6,792 km\n",
       "Polar Diameter:                            6,752 km\n",
       "Mass:                 6.39 × 10^23 kg (0.11 Earths)\n",
       "Moons:                        2 ( Phobos & Deimos )\n",
       "Orbit Distance:            227,943,824 km (1.38 AU)\n",
       "Orbit Period:                  687 days (1.9 years)\n",
       "Surface Temperature:                   -87 to -5 °C\n",
       "First Record:                     2nd millennium BC\n",
       "Recorded By:                   Egyptian astronomers"
      ]
     },
     "metadata": {},
     "execution_count": 46
    }
   ],
   "metadata": {}
  },
  {
   "cell_type": "code",
   "execution_count": 47,
   "source": [
    "# Convert Data back to HTML\r\n",
    "html_table = df.to_html(classes = 'table table-striped th-align-left table-bordered')\r\n",
    "# print(html_table)"
   ],
   "outputs": [],
   "metadata": {}
  },
  {
   "cell_type": "markdown",
   "source": [
    "## Mars Hemispheres 👽"
   ],
   "metadata": {}
  },
  {
   "cell_type": "markdown",
   "source": [
    "* Visit MARS HEMISPHERE URL to obtain high resolution images for each of Mar's hemispheres with their names."
   ],
   "metadata": {}
  },
  {
   "cell_type": "code",
   "execution_count": null,
   "source": [
    "# Visit USGS webpage for Mars hemispehere images\r\n",
    "url = \"https://marshemispheres.com/\"\r\n",
    "browser.visit(url)\r\n",
    "html = browser.html\r\n",
    "\r\n",
    "# Parse HTML with Beautiful Soup\r\n",
    "soup = bs(html, \"html.parser\")\r\n",
    "\r\n",
    "# Create dictionary to store titles & links to images\r\n",
    "image_urls = []\r\n",
    "\r\n",
    "# Retrieve all elements that contain image information\r\n",
    "results = soup.find(\"div\", class_ = \"collapsible results\" )\r\n",
    "pics = results.find_all(\"div\", class_=\"item\")\r\n",
    "\r\n",
    "# Iterate through each image\r\n",
    "for pic in pics:\r\n",
    "    \r\n",
    "    # Scrape the titles\r\n",
    "    title = pic.find(\"h3\").text\r\n",
    "    \r\n",
    "    # Clean title so I only have the name of the hemishpere\r\n",
    "    title = title.replace(\"Enhanced\", \"\")\r\n",
    "    \r\n",
    "    # Go the pic links\r\n",
    "    link = pic.find(\"a\")[\"href\"]\r\n",
    "    pic_link = url + link    \r\n",
    "    browser.visit(pic_link)\r\n",
    "    \r\n",
    "    # Parse link HTMLs with Beautiful Soup\r\n",
    "    html = browser.html\r\n",
    "    soup = bs(html, \"html.parser\")\r\n",
    "    \r\n",
    "    # Scrape the full size images\r\n",
    "    downloads = soup.find(\"div\", class_=\"downloads\")\r\n",
    "    pic_url = downloads.find(\"a\")[\"href\"]\r\n",
    "    \r\n",
    "    # Add URLs and Titles for the full size images to image_urls\r\n",
    "    image_urls.append({\"title\": title, \"image_url\": url + pic_url})\r\n",
    "\r\n",
    "# Print image title and url\r\n",
    "print(image_urls)"
   ],
   "outputs": [
    {
     "output_type": "stream",
     "name": "stdout",
     "text": [
      "[{'title': 'Cerberus Hemisphere ', 'image_url': 'https://marshemispheres.com/images/full.jpg'}, {'title': 'Schiaparelli Hemisphere ', 'image_url': 'https://marshemispheres.com/images/schiaparelli_enhanced-full.jpg'}, {'title': 'Syrtis Major Hemisphere ', 'image_url': 'https://marshemispheres.com/images/syrtis_major_enhanced-full.jpg'}, {'title': 'Valles Marineris Hemisphere ', 'image_url': 'https://marshemispheres.com/images/valles_marineris_enhanced-full.jpg'}]\n"
     ]
    }
   ],
   "metadata": {}
  }
 ],
 "metadata": {
  "interpreter": {
   "hash": "b4b880821d65060c8e4298c7cb03d26338c65489e1f2661ffae60500bf4444f8"
  },
  "kernelspec": {
   "name": "python3",
   "display_name": "Python 3.6.13 64-bit ('PythonData': conda)"
  },
  "language_info": {
   "name": "python",
   "version": "3.6.13",
   "mimetype": "text/x-python",
   "codemirror_mode": {
    "name": "ipython",
    "version": 3
   },
   "pygments_lexer": "ipython3",
   "nbconvert_exporter": "python",
   "file_extension": ".py"
  }
 },
 "nbformat": 4,
 "nbformat_minor": 5
}