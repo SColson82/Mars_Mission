{
 "cells": [
  {
   "cell_type": "markdown",
   "id": "39a11a8f-7229-4adf-9d76-2c9cfec66e25",
   "metadata": {},
   "source": [
    "# Web Scraping - Mission to Mars  👩🏻‍🚀"
   ]
  },
  {
   "cell_type": "code",
   "execution_count": 1,
   "id": "c4079474-4c2b-474f-a16f-d8ec09ee12bd",
   "metadata": {},
   "outputs": [],
   "source": [
    "# Dependencies\n",
    "from splinter import Browser\n",
    "from bs4 import BeautifulSoup as bs"
   ]
  },
  {
   "cell_type": "code",
   "execution_count": 2,
   "id": "60cd0da2-b55d-4d7a-9512-8966e61b1beb",
   "metadata": {},
   "outputs": [
    {
     "name": "stderr",
     "output_type": "stream",
     "text": [
      "\n",
      "\n",
      "====== WebDriver manager ======\n",
      "Current google-chrome version is 93.0.4577\n",
      "Get LATEST driver version for 93.0.4577\n",
      "Driver [C:\\Users\\Sharon\\.wdm\\drivers\\chromedriver\\win32\\93.0.4577.15\\chromedriver.exe] found in cache\n"
     ]
    }
   ],
   "source": [
    "# Import Splinter and set the chromedriver path\n",
    "from webdriver_manager.chrome import ChromeDriverManager\n",
    "executable_path = {'executable_path': ChromeDriverManager().install()}\n",
    "browser = Browser('chrome', **executable_path, headless=False)"
   ]
  },
  {
   "cell_type": "markdown",
   "id": "6c39070d-591d-4f82-8126-f8f3af7dc00f",
   "metadata": {},
   "source": [
    "## 🚀 NASA Mars News 🚀"
   ]
  },
  {
   "cell_type": "markdown",
   "id": "7c0cfd72-a62c-4e55-921f-9ec2c92b5792",
   "metadata": {},
   "source": [
    "Scrape the Mars News Site and collect the latest News Title and Paragraph Text. "
   ]
  },
  {
   "cell_type": "code",
   "execution_count": 3,
   "id": "9399479c-dafd-4c0a-8f43-d8acb577abf6",
   "metadata": {},
   "outputs": [
    {
     "name": "stdout",
     "output_type": "stream",
     "text": [
      "NASA's Briefcase-Size MarCO Satellite Picks Up Honors\n",
      "----------------------------------\n",
      "The twin spacecraft, the first of their kind to fly into deep space, earn a Laureate from Aviation Week & Space Technology.\n"
     ]
    }
   ],
   "source": [
    "# Save NASA MARS URL and visit the page\n",
    "url = 'https://redplanetscience.com/'\n",
    "browser.visit(url)\n",
    "\n",
    "# Create BeautifulSoup object; parse with 'html.parser'\n",
    "html = browser.html\n",
    "soup = bs(html, \"html.parser\")\n",
    "\n",
    "# Retrieve the latest news title and article\n",
    "news_title = soup.find('div', class_='content_title').text\n",
    "news_p = soup.find('div', class_='article_teaser_body').text\n",
    "\n",
    "# Print title and paragraph\n",
    "print(news_title)\n",
    "print('----------------------------------')\n",
    "print(news_p)"
   ]
  },
  {
   "cell_type": "markdown",
   "id": "81a19ce6-fbe6-46a7-8ac6-39d7299ef76c",
   "metadata": {},
   "source": [
    "## JPL Mars Space Images - Featured Image 🌑"
   ]
  },
  {
   "cell_type": "markdown",
   "id": "7b9ebd18-799d-4a58-893c-60acb7637e0b",
   "metadata": {},
   "source": [
    "Visit the url for the Featured Space Image site and retrieve the full sive image URL. "
   ]
  },
  {
   "cell_type": "code",
   "execution_count": 11,
   "id": "f7130c8c-0f52-431a-a147-e65b142a789e",
   "metadata": {},
   "outputs": [
    {
     "data": {
      "text/plain": [
       "'https://spaceimages-mars.com/image/featured/mars3.jpg'"
      ]
     },
     "execution_count": 11,
     "metadata": {},
     "output_type": "execute_result"
    }
   ],
   "source": [
    "# Save Featured Space Image URL and visit the page\n",
    "url = 'https://spaceimages-mars.com/'\n",
    "browser.visit(url)\n",
    "\n",
    "# Design an XPATH selector to grab the featured image\n",
    "xpath = '/html/body/div[1]/img'\n",
    "\n",
    "# Use splinter to Click the featured image \n",
    "# to bring up the full resolution image\n",
    "results = browser.find_by_xpath(xpath)\n",
    "img = results[0]\n",
    "img.click()\n",
    "\n",
    "# Create BeautifulSoup object; parse with 'html.parser'\n",
    "html = browser.html\n",
    "soup = bs(html, \"html.parser\")\n",
    "image_url = soup.find(\"img\", class_=\"headerimage fade-in\")[\"src\"]\n",
    "\n",
    "# Concatenate URL with image_url\n",
    "featured_image_url = url + image_url\n",
    "featured_image_url"
   ]
  },
  {
   "cell_type": "markdown",
   "id": "d6354bf6-c513-414b-9e3f-4bd02cf9ac97",
   "metadata": {},
   "source": [
    "## Mars Facts"
   ]
  },
  {
   "cell_type": "markdown",
   "id": "922a1ebe-d6dc-4e95-bc28-721388b99bdf",
   "metadata": {},
   "source": [
    "* Visit the Mars Facts webpage here and use Pandas to scrape the table containing facts about the planet including Diameter, Mass, etc."
   ]
  },
  {
   "cell_type": "markdown",
   "id": "4949a637-3c2d-4248-bd67-dcf76765e412",
   "metadata": {},
   "source": [
    "* Use Pandas to convert the data to a HTML table string. (Just like we did in the last challenge)"
   ]
  },
  {
   "cell_type": "markdown",
   "id": "2c8f43e0-f893-4cd5-8205-b7be97627e6d",
   "metadata": {},
   "source": [
    "## Mars Hemispheres"
   ]
  },
  {
   "cell_type": "markdown",
   "id": "a54fcee2-5532-4774-8855-9cbe751edf03",
   "metadata": {},
   "source": [
    "* Visit the astrogeology site here to obtain high resolution images for each of Mar's hemispheres."
   ]
  },
  {
   "cell_type": "markdown",
   "id": "da297a4d-4b91-4c1c-9ac4-05524567744a",
   "metadata": {},
   "source": [
    "* You will need to click each of the links to the hemispheres in order to find the image url to the full resolution image.  (Extra content exercise with a for loop)"
   ]
  },
  {
   "cell_type": "markdown",
   "id": "94feb41f-049f-4cf5-bb9c-6d4c0669a212",
   "metadata": {},
   "source": [
    "* Save both the image url string for the full resolution hemisphere image, and the Hemisphere title containing the hemisphere name. Use a Python dictionary to store the data using the keys img_url and title."
   ]
  },
  {
   "cell_type": "markdown",
   "id": "291d775d-5fa8-4550-a9c8-720929dbf4a9",
   "metadata": {},
   "source": [
    "* Append the dictionary with the image url string and the hemisphere title to a list. This list will contain one dictionary for each hemisphere.\n",
    "\n",
    "Example: hemisphere_image_urls = [\n",
    "    {\"title\": \"Valles Marineris Hemisphere\", \"img_url\": \"...\"},\n",
    "    {\"title\": \"Cerberus Hemisphere\", \"img_url\": \"...\"},\n",
    "    {\"title\": \"Schiaparelli Hemisphere\", \"img_url\": \"...\"},\n",
    "    {\"title\": \"Syrtis Major Hemisphere\", \"img_url\": \"...\"},\n",
    "]"
   ]
  },
  {
   "cell_type": "markdown",
   "id": "25d74706-65f9-4e09-9187-53ac59e5e464",
   "metadata": {},
   "source": [
    "# Step 2 - MongoDB and Flask Application"
   ]
  },
  {
   "cell_type": "markdown",
   "id": "b9487006-78fe-4f83-a113-489eee210194",
   "metadata": {},
   "source": [
    "Use MongoDB with Flask templating to create a new HTML page that displays all of the information that was scraped from the URLs above."
   ]
  },
  {
   "cell_type": "markdown",
   "id": "d5f38692-2043-4f69-9b18-fcfefb0fe453",
   "metadata": {},
   "source": [
    "* Start by converting your Jupyter notebook into a Python script called scrape_mars.py with a function called scrape that will execute all of your scraping code from above and return one Python dictionary containing all of the scraped data."
   ]
  },
  {
   "cell_type": "markdown",
   "id": "6fdd1bb4-2eb3-4507-aa19-7d26748093c4",
   "metadata": {},
   "source": [
    "* Next, create a route called /scrape that will import your scrape_mars.py script and call your scrape function.\n",
    "\n",
    " Store the return value in Mongo as a Python dictionary."
   ]
  },
  {
   "cell_type": "markdown",
   "id": "be6b8d9c-eee4-4ba0-b506-01684964bdff",
   "metadata": {},
   "source": [
    "* Create a root route / that will query your Mongo database and pass the mars data into an HTML template to display the data."
   ]
  },
  {
   "cell_type": "markdown",
   "id": "eb5f66a6-8f60-425e-b9fe-9d00b41e23a7",
   "metadata": {},
   "source": [
    "* Create a template HTML file called index.html that will take the mars data dictionary and display all of the data in the appropriate HTML elements. Use the following as a guide for what the final product should look like, but feel free to create your own design."
   ]
  },
  {
   "cell_type": "markdown",
   "id": "1d28b79f-1320-4d11-87b3-87213afcb80e",
   "metadata": {},
   "source": [
    "# Step 3 - Submission"
   ]
  },
  {
   "cell_type": "markdown",
   "id": "986daa61-3469-4c9c-a883-0c136ca46e1e",
   "metadata": {},
   "source": [
    "To submit your work to BootCampSpot, create a new GitHub repository and upload the following:"
   ]
  },
  {
   "cell_type": "markdown",
   "id": "078bd3db-01db-47d9-9351-e3167cfbae93",
   "metadata": {},
   "source": [
    " 1. The Jupyter Notebook containing the scraping code used."
   ]
  },
  {
   "cell_type": "markdown",
   "id": "dc28cdb9-534d-4213-951b-c3a1345e0de2",
   "metadata": {},
   "source": [
    " 2. Screenshots of your final application."
   ]
  },
  {
   "cell_type": "markdown",
   "id": "bc7fbd70-4b76-4709-a960-a4ca25a1eb58",
   "metadata": {},
   "source": [
    "  3. Submit the link to your new repository to BootCampSpot."
   ]
  },
  {
   "cell_type": "markdown",
   "id": "52f41a4e-57d4-4b80-bd44-039dc263c1ed",
   "metadata": {},
   "source": [
    " 4. Ensure your repository has regular commits and a thorough README.md file "
   ]
  },
  {
   "cell_type": "markdown",
   "id": "9655c692-89d8-4a84-bff5-75facee0541a",
   "metadata": {},
   "source": [
    "## Hints"
   ]
  },
  {
   "cell_type": "markdown",
   "id": "f8784f27-a9ad-4bd2-8cc8-34f2a06fd7fe",
   "metadata": {},
   "source": [
    "* Use Splinter to navigate the sites when needed and BeautifulSoup to help find and parse out the necessary data."
   ]
  },
  {
   "cell_type": "markdown",
   "id": "4916b13a-8b8b-407d-a0f8-c992a5776deb",
   "metadata": {},
   "source": [
    "* Use Pymongo for CRUD applications for your database. For this homework, you can simply overwrite the existing document each time the /scrape url is visited and new data is obtained."
   ]
  },
  {
   "cell_type": "markdown",
   "id": "c2e268f9-e1b8-446e-baca-60893f413b5f",
   "metadata": {},
   "source": [
    "* Use Bootstrap to structure your HTML template."
   ]
  },
  {
   "cell_type": "code",
   "execution_count": null,
   "id": "ec27e97a-3b0a-499d-a928-932ab273751e",
   "metadata": {},
   "outputs": [],
   "source": []
  }
 ],
 "metadata": {
  "kernelspec": {
   "display_name": "Python 3",
   "language": "python",
   "name": "python3"
  },
  "language_info": {
   "codemirror_mode": {
    "name": "ipython",
    "version": 3
   },
   "file_extension": ".py",
   "mimetype": "text/x-python",
   "name": "python",
   "nbconvert_exporter": "python",
   "pygments_lexer": "ipython3",
   "version": "3.8.5"
  }
 },
 "nbformat": 4,
 "nbformat_minor": 5
}
